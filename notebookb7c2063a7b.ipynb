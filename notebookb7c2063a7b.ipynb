{
 "cells": [
  {
   "cell_type": "code",
   "execution_count": 1,
   "id": "9af61490",
   "metadata": {
    "_cell_guid": "b1076dfc-b9ad-4769-8c92-a6c4dae69d19",
    "_uuid": "8f2839f25d086af736a60e9eeb907d3b93b6e0e5",
    "execution": {
     "iopub.execute_input": "2023-05-18T09:22:20.071017Z",
     "iopub.status.busy": "2023-05-18T09:22:20.070506Z",
     "iopub.status.idle": "2023-05-18T09:22:20.093646Z",
     "shell.execute_reply": "2023-05-18T09:22:20.092706Z"
    },
    "papermill": {
     "duration": 0.035157,
     "end_time": "2023-05-18T09:22:20.095859",
     "exception": false,
     "start_time": "2023-05-18T09:22:20.060702",
     "status": "completed"
    },
    "tags": []
   },
   "outputs": [
    {
     "name": "stdout",
     "output_type": "stream",
     "text": [
      "/kaggle/input/earthquake-dataset/database.csv\n"
     ]
    }
   ],
   "source": [
    "# This Python 3 environment comes with many helpful analytics libraries installed\n",
    "# It is defined by the kaggle/python Docker image: https://github.com/kaggle/docker-python\n",
    "# For example, here's several helpful packages to load\n",
    "\n",
    "import numpy as np # linear algebra\n",
    "import pandas as pd # data processing, CSV file I/O (e.g. pd.read_csv)\n",
    "\n",
    "# Input data files are available in the read-only \"../input/\" directory\n",
    "# For example, running this (by clicking run or pressing Shift+Enter) will list all files under the input directory\n",
    "\n",
    "import os\n",
    "for dirname, _, filenames in os.walk('/kaggle/input'):\n",
    "    for filename in filenames:\n",
    "        print(os.path.join(dirname, filename))\n",
    "\n",
    "# You can write up to 20GB to the current directory (/kaggle/working/) that gets preserved as output when you create a version using \"Save & Run All\" \n",
    "# You can also write temporary files to /kaggle/temp/, but they won't be saved outside of the current session"
   ]
  },
  {
   "cell_type": "code",
   "execution_count": 2,
   "id": "91a363e9",
   "metadata": {
    "execution": {
     "iopub.execute_input": "2023-05-18T09:22:20.112838Z",
     "iopub.status.busy": "2023-05-18T09:22:20.112465Z",
     "iopub.status.idle": "2023-05-18T09:22:20.275744Z",
     "shell.execute_reply": "2023-05-18T09:22:20.274800Z"
    },
    "papermill": {
     "duration": 0.174993,
     "end_time": "2023-05-18T09:22:20.278522",
     "exception": false,
     "start_time": "2023-05-18T09:22:20.103529",
     "status": "completed"
    },
    "tags": []
   },
   "outputs": [],
   "source": [
    "#import the dataset\n",
    "import pandas as pd\n",
    "data1 = pd.read_csv('/kaggle/input/earthquake-dataset/database.csv')"
   ]
  },
  {
   "cell_type": "code",
   "execution_count": 3,
   "id": "de6309a3",
   "metadata": {
    "execution": {
     "iopub.execute_input": "2023-05-18T09:22:20.295173Z",
     "iopub.status.busy": "2023-05-18T09:22:20.294814Z",
     "iopub.status.idle": "2023-05-18T09:22:20.303282Z",
     "shell.execute_reply": "2023-05-18T09:22:20.302329Z"
    },
    "papermill": {
     "duration": 0.019453,
     "end_time": "2023-05-18T09:22:20.305634",
     "exception": false,
     "start_time": "2023-05-18T09:22:20.286181",
     "status": "completed"
    },
    "tags": []
   },
   "outputs": [
    {
     "data": {
      "text/plain": [
       "(23412, 21)"
      ]
     },
     "execution_count": 3,
     "metadata": {},
     "output_type": "execute_result"
    }
   ],
   "source": [
    "#the dimensions\n",
    "data1.shape"
   ]
  },
  {
   "cell_type": "code",
   "execution_count": 4,
   "id": "a9de2dff",
   "metadata": {
    "execution": {
     "iopub.execute_input": "2023-05-18T09:22:20.323266Z",
     "iopub.status.busy": "2023-05-18T09:22:20.322632Z",
     "iopub.status.idle": "2023-05-18T09:22:20.374783Z",
     "shell.execute_reply": "2023-05-18T09:22:20.373705Z"
    },
    "papermill": {
     "duration": 0.063706,
     "end_time": "2023-05-18T09:22:20.377285",
     "exception": false,
     "start_time": "2023-05-18T09:22:20.313579",
     "status": "completed"
    },
    "tags": []
   },
   "outputs": [
    {
     "data": {
      "text/html": [
       "<div>\n",
       "<style scoped>\n",
       "    .dataframe tbody tr th:only-of-type {\n",
       "        vertical-align: middle;\n",
       "    }\n",
       "\n",
       "    .dataframe tbody tr th {\n",
       "        vertical-align: top;\n",
       "    }\n",
       "\n",
       "    .dataframe thead th {\n",
       "        text-align: right;\n",
       "    }\n",
       "</style>\n",
       "<table border=\"1\" class=\"dataframe\">\n",
       "  <thead>\n",
       "    <tr style=\"text-align: right;\">\n",
       "      <th></th>\n",
       "      <th>Date</th>\n",
       "      <th>Time</th>\n",
       "      <th>Latitude</th>\n",
       "      <th>Longitude</th>\n",
       "      <th>Type</th>\n",
       "      <th>Depth</th>\n",
       "      <th>Depth Error</th>\n",
       "      <th>Depth Seismic Stations</th>\n",
       "      <th>Magnitude</th>\n",
       "      <th>Magnitude Type</th>\n",
       "      <th>...</th>\n",
       "      <th>Magnitude Seismic Stations</th>\n",
       "      <th>Azimuthal Gap</th>\n",
       "      <th>Horizontal Distance</th>\n",
       "      <th>Horizontal Error</th>\n",
       "      <th>Root Mean Square</th>\n",
       "      <th>ID</th>\n",
       "      <th>Source</th>\n",
       "      <th>Location Source</th>\n",
       "      <th>Magnitude Source</th>\n",
       "      <th>Status</th>\n",
       "    </tr>\n",
       "  </thead>\n",
       "  <tbody>\n",
       "    <tr>\n",
       "      <th>0</th>\n",
       "      <td>01/02/1965</td>\n",
       "      <td>13:44:18</td>\n",
       "      <td>19.246</td>\n",
       "      <td>145.616</td>\n",
       "      <td>Earthquake</td>\n",
       "      <td>131.6</td>\n",
       "      <td>NaN</td>\n",
       "      <td>NaN</td>\n",
       "      <td>6.0</td>\n",
       "      <td>MW</td>\n",
       "      <td>...</td>\n",
       "      <td>NaN</td>\n",
       "      <td>NaN</td>\n",
       "      <td>NaN</td>\n",
       "      <td>NaN</td>\n",
       "      <td>NaN</td>\n",
       "      <td>ISCGEM860706</td>\n",
       "      <td>ISCGEM</td>\n",
       "      <td>ISCGEM</td>\n",
       "      <td>ISCGEM</td>\n",
       "      <td>Automatic</td>\n",
       "    </tr>\n",
       "    <tr>\n",
       "      <th>1</th>\n",
       "      <td>01/04/1965</td>\n",
       "      <td>11:29:49</td>\n",
       "      <td>1.863</td>\n",
       "      <td>127.352</td>\n",
       "      <td>Earthquake</td>\n",
       "      <td>80.0</td>\n",
       "      <td>NaN</td>\n",
       "      <td>NaN</td>\n",
       "      <td>5.8</td>\n",
       "      <td>MW</td>\n",
       "      <td>...</td>\n",
       "      <td>NaN</td>\n",
       "      <td>NaN</td>\n",
       "      <td>NaN</td>\n",
       "      <td>NaN</td>\n",
       "      <td>NaN</td>\n",
       "      <td>ISCGEM860737</td>\n",
       "      <td>ISCGEM</td>\n",
       "      <td>ISCGEM</td>\n",
       "      <td>ISCGEM</td>\n",
       "      <td>Automatic</td>\n",
       "    </tr>\n",
       "    <tr>\n",
       "      <th>2</th>\n",
       "      <td>01/05/1965</td>\n",
       "      <td>18:05:58</td>\n",
       "      <td>-20.579</td>\n",
       "      <td>-173.972</td>\n",
       "      <td>Earthquake</td>\n",
       "      <td>20.0</td>\n",
       "      <td>NaN</td>\n",
       "      <td>NaN</td>\n",
       "      <td>6.2</td>\n",
       "      <td>MW</td>\n",
       "      <td>...</td>\n",
       "      <td>NaN</td>\n",
       "      <td>NaN</td>\n",
       "      <td>NaN</td>\n",
       "      <td>NaN</td>\n",
       "      <td>NaN</td>\n",
       "      <td>ISCGEM860762</td>\n",
       "      <td>ISCGEM</td>\n",
       "      <td>ISCGEM</td>\n",
       "      <td>ISCGEM</td>\n",
       "      <td>Automatic</td>\n",
       "    </tr>\n",
       "    <tr>\n",
       "      <th>3</th>\n",
       "      <td>01/08/1965</td>\n",
       "      <td>18:49:43</td>\n",
       "      <td>-59.076</td>\n",
       "      <td>-23.557</td>\n",
       "      <td>Earthquake</td>\n",
       "      <td>15.0</td>\n",
       "      <td>NaN</td>\n",
       "      <td>NaN</td>\n",
       "      <td>5.8</td>\n",
       "      <td>MW</td>\n",
       "      <td>...</td>\n",
       "      <td>NaN</td>\n",
       "      <td>NaN</td>\n",
       "      <td>NaN</td>\n",
       "      <td>NaN</td>\n",
       "      <td>NaN</td>\n",
       "      <td>ISCGEM860856</td>\n",
       "      <td>ISCGEM</td>\n",
       "      <td>ISCGEM</td>\n",
       "      <td>ISCGEM</td>\n",
       "      <td>Automatic</td>\n",
       "    </tr>\n",
       "    <tr>\n",
       "      <th>4</th>\n",
       "      <td>01/09/1965</td>\n",
       "      <td>13:32:50</td>\n",
       "      <td>11.938</td>\n",
       "      <td>126.427</td>\n",
       "      <td>Earthquake</td>\n",
       "      <td>15.0</td>\n",
       "      <td>NaN</td>\n",
       "      <td>NaN</td>\n",
       "      <td>5.8</td>\n",
       "      <td>MW</td>\n",
       "      <td>...</td>\n",
       "      <td>NaN</td>\n",
       "      <td>NaN</td>\n",
       "      <td>NaN</td>\n",
       "      <td>NaN</td>\n",
       "      <td>NaN</td>\n",
       "      <td>ISCGEM860890</td>\n",
       "      <td>ISCGEM</td>\n",
       "      <td>ISCGEM</td>\n",
       "      <td>ISCGEM</td>\n",
       "      <td>Automatic</td>\n",
       "    </tr>\n",
       "    <tr>\n",
       "      <th>5</th>\n",
       "      <td>01/10/1965</td>\n",
       "      <td>13:36:32</td>\n",
       "      <td>-13.405</td>\n",
       "      <td>166.629</td>\n",
       "      <td>Earthquake</td>\n",
       "      <td>35.0</td>\n",
       "      <td>NaN</td>\n",
       "      <td>NaN</td>\n",
       "      <td>6.7</td>\n",
       "      <td>MW</td>\n",
       "      <td>...</td>\n",
       "      <td>NaN</td>\n",
       "      <td>NaN</td>\n",
       "      <td>NaN</td>\n",
       "      <td>NaN</td>\n",
       "      <td>NaN</td>\n",
       "      <td>ISCGEM860922</td>\n",
       "      <td>ISCGEM</td>\n",
       "      <td>ISCGEM</td>\n",
       "      <td>ISCGEM</td>\n",
       "      <td>Automatic</td>\n",
       "    </tr>\n",
       "    <tr>\n",
       "      <th>6</th>\n",
       "      <td>01/12/1965</td>\n",
       "      <td>13:32:25</td>\n",
       "      <td>27.357</td>\n",
       "      <td>87.867</td>\n",
       "      <td>Earthquake</td>\n",
       "      <td>20.0</td>\n",
       "      <td>NaN</td>\n",
       "      <td>NaN</td>\n",
       "      <td>5.9</td>\n",
       "      <td>MW</td>\n",
       "      <td>...</td>\n",
       "      <td>NaN</td>\n",
       "      <td>NaN</td>\n",
       "      <td>NaN</td>\n",
       "      <td>NaN</td>\n",
       "      <td>NaN</td>\n",
       "      <td>ISCGEM861007</td>\n",
       "      <td>ISCGEM</td>\n",
       "      <td>ISCGEM</td>\n",
       "      <td>ISCGEM</td>\n",
       "      <td>Automatic</td>\n",
       "    </tr>\n",
       "    <tr>\n",
       "      <th>7</th>\n",
       "      <td>01/15/1965</td>\n",
       "      <td>23:17:42</td>\n",
       "      <td>-13.309</td>\n",
       "      <td>166.212</td>\n",
       "      <td>Earthquake</td>\n",
       "      <td>35.0</td>\n",
       "      <td>NaN</td>\n",
       "      <td>NaN</td>\n",
       "      <td>6.0</td>\n",
       "      <td>MW</td>\n",
       "      <td>...</td>\n",
       "      <td>NaN</td>\n",
       "      <td>NaN</td>\n",
       "      <td>NaN</td>\n",
       "      <td>NaN</td>\n",
       "      <td>NaN</td>\n",
       "      <td>ISCGEM861111</td>\n",
       "      <td>ISCGEM</td>\n",
       "      <td>ISCGEM</td>\n",
       "      <td>ISCGEM</td>\n",
       "      <td>Automatic</td>\n",
       "    </tr>\n",
       "    <tr>\n",
       "      <th>8</th>\n",
       "      <td>01/16/1965</td>\n",
       "      <td>11:32:37</td>\n",
       "      <td>-56.452</td>\n",
       "      <td>-27.043</td>\n",
       "      <td>Earthquake</td>\n",
       "      <td>95.0</td>\n",
       "      <td>NaN</td>\n",
       "      <td>NaN</td>\n",
       "      <td>6.0</td>\n",
       "      <td>MW</td>\n",
       "      <td>...</td>\n",
       "      <td>NaN</td>\n",
       "      <td>NaN</td>\n",
       "      <td>NaN</td>\n",
       "      <td>NaN</td>\n",
       "      <td>NaN</td>\n",
       "      <td>ISCGEMSUP861125</td>\n",
       "      <td>ISCGEMSUP</td>\n",
       "      <td>ISCGEM</td>\n",
       "      <td>ISCGEM</td>\n",
       "      <td>Automatic</td>\n",
       "    </tr>\n",
       "    <tr>\n",
       "      <th>9</th>\n",
       "      <td>01/17/1965</td>\n",
       "      <td>10:43:17</td>\n",
       "      <td>-24.563</td>\n",
       "      <td>178.487</td>\n",
       "      <td>Earthquake</td>\n",
       "      <td>565.0</td>\n",
       "      <td>NaN</td>\n",
       "      <td>NaN</td>\n",
       "      <td>5.8</td>\n",
       "      <td>MW</td>\n",
       "      <td>...</td>\n",
       "      <td>NaN</td>\n",
       "      <td>NaN</td>\n",
       "      <td>NaN</td>\n",
       "      <td>NaN</td>\n",
       "      <td>NaN</td>\n",
       "      <td>ISCGEM861148</td>\n",
       "      <td>ISCGEM</td>\n",
       "      <td>ISCGEM</td>\n",
       "      <td>ISCGEM</td>\n",
       "      <td>Automatic</td>\n",
       "    </tr>\n",
       "  </tbody>\n",
       "</table>\n",
       "<p>10 rows × 21 columns</p>\n",
       "</div>"
      ],
      "text/plain": [
       "         Date      Time  Latitude  Longitude        Type  Depth  Depth Error  \\\n",
       "0  01/02/1965  13:44:18    19.246    145.616  Earthquake  131.6          NaN   \n",
       "1  01/04/1965  11:29:49     1.863    127.352  Earthquake   80.0          NaN   \n",
       "2  01/05/1965  18:05:58   -20.579   -173.972  Earthquake   20.0          NaN   \n",
       "3  01/08/1965  18:49:43   -59.076    -23.557  Earthquake   15.0          NaN   \n",
       "4  01/09/1965  13:32:50    11.938    126.427  Earthquake   15.0          NaN   \n",
       "5  01/10/1965  13:36:32   -13.405    166.629  Earthquake   35.0          NaN   \n",
       "6  01/12/1965  13:32:25    27.357     87.867  Earthquake   20.0          NaN   \n",
       "7  01/15/1965  23:17:42   -13.309    166.212  Earthquake   35.0          NaN   \n",
       "8  01/16/1965  11:32:37   -56.452    -27.043  Earthquake   95.0          NaN   \n",
       "9  01/17/1965  10:43:17   -24.563    178.487  Earthquake  565.0          NaN   \n",
       "\n",
       "   Depth Seismic Stations  Magnitude Magnitude Type  ...  \\\n",
       "0                     NaN        6.0             MW  ...   \n",
       "1                     NaN        5.8             MW  ...   \n",
       "2                     NaN        6.2             MW  ...   \n",
       "3                     NaN        5.8             MW  ...   \n",
       "4                     NaN        5.8             MW  ...   \n",
       "5                     NaN        6.7             MW  ...   \n",
       "6                     NaN        5.9             MW  ...   \n",
       "7                     NaN        6.0             MW  ...   \n",
       "8                     NaN        6.0             MW  ...   \n",
       "9                     NaN        5.8             MW  ...   \n",
       "\n",
       "   Magnitude Seismic Stations  Azimuthal Gap  Horizontal Distance  \\\n",
       "0                         NaN            NaN                  NaN   \n",
       "1                         NaN            NaN                  NaN   \n",
       "2                         NaN            NaN                  NaN   \n",
       "3                         NaN            NaN                  NaN   \n",
       "4                         NaN            NaN                  NaN   \n",
       "5                         NaN            NaN                  NaN   \n",
       "6                         NaN            NaN                  NaN   \n",
       "7                         NaN            NaN                  NaN   \n",
       "8                         NaN            NaN                  NaN   \n",
       "9                         NaN            NaN                  NaN   \n",
       "\n",
       "   Horizontal Error  Root Mean Square               ID     Source  \\\n",
       "0               NaN               NaN     ISCGEM860706     ISCGEM   \n",
       "1               NaN               NaN     ISCGEM860737     ISCGEM   \n",
       "2               NaN               NaN     ISCGEM860762     ISCGEM   \n",
       "3               NaN               NaN     ISCGEM860856     ISCGEM   \n",
       "4               NaN               NaN     ISCGEM860890     ISCGEM   \n",
       "5               NaN               NaN     ISCGEM860922     ISCGEM   \n",
       "6               NaN               NaN     ISCGEM861007     ISCGEM   \n",
       "7               NaN               NaN     ISCGEM861111     ISCGEM   \n",
       "8               NaN               NaN  ISCGEMSUP861125  ISCGEMSUP   \n",
       "9               NaN               NaN     ISCGEM861148     ISCGEM   \n",
       "\n",
       "  Location Source Magnitude Source     Status  \n",
       "0          ISCGEM           ISCGEM  Automatic  \n",
       "1          ISCGEM           ISCGEM  Automatic  \n",
       "2          ISCGEM           ISCGEM  Automatic  \n",
       "3          ISCGEM           ISCGEM  Automatic  \n",
       "4          ISCGEM           ISCGEM  Automatic  \n",
       "5          ISCGEM           ISCGEM  Automatic  \n",
       "6          ISCGEM           ISCGEM  Automatic  \n",
       "7          ISCGEM           ISCGEM  Automatic  \n",
       "8          ISCGEM           ISCGEM  Automatic  \n",
       "9          ISCGEM           ISCGEM  Automatic  \n",
       "\n",
       "[10 rows x 21 columns]"
      ]
     },
     "execution_count": 4,
     "metadata": {},
     "output_type": "execute_result"
    }
   ],
   "source": [
    "#looking at the constituents\n",
    "data1.head(10)"
   ]
  },
  {
   "cell_type": "code",
   "execution_count": 5,
   "id": "6aa8a3d0",
   "metadata": {
    "execution": {
     "iopub.execute_input": "2023-05-18T09:22:20.395645Z",
     "iopub.status.busy": "2023-05-18T09:22:20.395010Z",
     "iopub.status.idle": "2023-05-18T09:22:20.403489Z",
     "shell.execute_reply": "2023-05-18T09:22:20.402441Z"
    },
    "papermill": {
     "duration": 0.020135,
     "end_time": "2023-05-18T09:22:20.405724",
     "exception": false,
     "start_time": "2023-05-18T09:22:20.385589",
     "status": "completed"
    },
    "tags": []
   },
   "outputs": [
    {
     "data": {
      "text/plain": [
       "Date                           object\n",
       "Time                           object\n",
       "Latitude                      float64\n",
       "Longitude                     float64\n",
       "Type                           object\n",
       "Depth                         float64\n",
       "Depth Error                   float64\n",
       "Depth Seismic Stations        float64\n",
       "Magnitude                     float64\n",
       "Magnitude Type                 object\n",
       "Magnitude Error               float64\n",
       "Magnitude Seismic Stations    float64\n",
       "Azimuthal Gap                 float64\n",
       "Horizontal Distance           float64\n",
       "Horizontal Error              float64\n",
       "Root Mean Square              float64\n",
       "ID                             object\n",
       "Source                         object\n",
       "Location Source                object\n",
       "Magnitude Source               object\n",
       "Status                         object\n",
       "dtype: object"
      ]
     },
     "execution_count": 5,
     "metadata": {},
     "output_type": "execute_result"
    }
   ],
   "source": [
    "#describe the data types\n",
    "data1.dtypes"
   ]
  },
  {
   "cell_type": "code",
   "execution_count": 6,
   "id": "67cfc9eb",
   "metadata": {
    "execution": {
     "iopub.execute_input": "2023-05-18T09:22:20.425445Z",
     "iopub.status.busy": "2023-05-18T09:22:20.425069Z",
     "iopub.status.idle": "2023-05-18T09:22:20.491151Z",
     "shell.execute_reply": "2023-05-18T09:22:20.490063Z"
    },
    "papermill": {
     "duration": 0.078805,
     "end_time": "2023-05-18T09:22:20.493582",
     "exception": false,
     "start_time": "2023-05-18T09:22:20.414777",
     "status": "completed"
    },
    "tags": []
   },
   "outputs": [
    {
     "data": {
      "text/html": [
       "<div>\n",
       "<style scoped>\n",
       "    .dataframe tbody tr th:only-of-type {\n",
       "        vertical-align: middle;\n",
       "    }\n",
       "\n",
       "    .dataframe tbody tr th {\n",
       "        vertical-align: top;\n",
       "    }\n",
       "\n",
       "    .dataframe thead th {\n",
       "        text-align: right;\n",
       "    }\n",
       "</style>\n",
       "<table border=\"1\" class=\"dataframe\">\n",
       "  <thead>\n",
       "    <tr style=\"text-align: right;\">\n",
       "      <th></th>\n",
       "      <th>Latitude</th>\n",
       "      <th>Longitude</th>\n",
       "      <th>Depth</th>\n",
       "      <th>Depth Error</th>\n",
       "      <th>Depth Seismic Stations</th>\n",
       "      <th>Magnitude</th>\n",
       "      <th>Magnitude Error</th>\n",
       "      <th>Magnitude Seismic Stations</th>\n",
       "      <th>Azimuthal Gap</th>\n",
       "      <th>Horizontal Distance</th>\n",
       "      <th>Horizontal Error</th>\n",
       "      <th>Root Mean Square</th>\n",
       "    </tr>\n",
       "  </thead>\n",
       "  <tbody>\n",
       "    <tr>\n",
       "      <th>count</th>\n",
       "      <td>23412.000000</td>\n",
       "      <td>23412.000000</td>\n",
       "      <td>23412.000000</td>\n",
       "      <td>4461.000000</td>\n",
       "      <td>7097.000000</td>\n",
       "      <td>23412.000000</td>\n",
       "      <td>327.000000</td>\n",
       "      <td>2564.000000</td>\n",
       "      <td>7299.000000</td>\n",
       "      <td>1604.000000</td>\n",
       "      <td>1156.000000</td>\n",
       "      <td>17352.000000</td>\n",
       "    </tr>\n",
       "    <tr>\n",
       "      <th>mean</th>\n",
       "      <td>1.679033</td>\n",
       "      <td>39.639961</td>\n",
       "      <td>70.767911</td>\n",
       "      <td>4.993115</td>\n",
       "      <td>275.364098</td>\n",
       "      <td>5.882531</td>\n",
       "      <td>0.071820</td>\n",
       "      <td>48.944618</td>\n",
       "      <td>44.163532</td>\n",
       "      <td>3.992660</td>\n",
       "      <td>7.662759</td>\n",
       "      <td>1.022784</td>\n",
       "    </tr>\n",
       "    <tr>\n",
       "      <th>std</th>\n",
       "      <td>30.113183</td>\n",
       "      <td>125.511959</td>\n",
       "      <td>122.651898</td>\n",
       "      <td>4.875184</td>\n",
       "      <td>162.141631</td>\n",
       "      <td>0.423066</td>\n",
       "      <td>0.051466</td>\n",
       "      <td>62.943106</td>\n",
       "      <td>32.141486</td>\n",
       "      <td>5.377262</td>\n",
       "      <td>10.430396</td>\n",
       "      <td>0.188545</td>\n",
       "    </tr>\n",
       "    <tr>\n",
       "      <th>min</th>\n",
       "      <td>-77.080000</td>\n",
       "      <td>-179.997000</td>\n",
       "      <td>-1.100000</td>\n",
       "      <td>0.000000</td>\n",
       "      <td>0.000000</td>\n",
       "      <td>5.500000</td>\n",
       "      <td>0.000000</td>\n",
       "      <td>0.000000</td>\n",
       "      <td>0.000000</td>\n",
       "      <td>0.004505</td>\n",
       "      <td>0.085000</td>\n",
       "      <td>0.000000</td>\n",
       "    </tr>\n",
       "    <tr>\n",
       "      <th>25%</th>\n",
       "      <td>-18.653000</td>\n",
       "      <td>-76.349750</td>\n",
       "      <td>14.522500</td>\n",
       "      <td>1.800000</td>\n",
       "      <td>146.000000</td>\n",
       "      <td>5.600000</td>\n",
       "      <td>0.046000</td>\n",
       "      <td>10.000000</td>\n",
       "      <td>24.100000</td>\n",
       "      <td>0.968750</td>\n",
       "      <td>5.300000</td>\n",
       "      <td>0.900000</td>\n",
       "    </tr>\n",
       "    <tr>\n",
       "      <th>50%</th>\n",
       "      <td>-3.568500</td>\n",
       "      <td>103.982000</td>\n",
       "      <td>33.000000</td>\n",
       "      <td>3.500000</td>\n",
       "      <td>255.000000</td>\n",
       "      <td>5.700000</td>\n",
       "      <td>0.059000</td>\n",
       "      <td>28.000000</td>\n",
       "      <td>36.000000</td>\n",
       "      <td>2.319500</td>\n",
       "      <td>6.700000</td>\n",
       "      <td>1.000000</td>\n",
       "    </tr>\n",
       "    <tr>\n",
       "      <th>75%</th>\n",
       "      <td>26.190750</td>\n",
       "      <td>145.026250</td>\n",
       "      <td>54.000000</td>\n",
       "      <td>6.300000</td>\n",
       "      <td>384.000000</td>\n",
       "      <td>6.000000</td>\n",
       "      <td>0.075500</td>\n",
       "      <td>66.000000</td>\n",
       "      <td>54.000000</td>\n",
       "      <td>4.724500</td>\n",
       "      <td>8.100000</td>\n",
       "      <td>1.130000</td>\n",
       "    </tr>\n",
       "    <tr>\n",
       "      <th>max</th>\n",
       "      <td>86.005000</td>\n",
       "      <td>179.998000</td>\n",
       "      <td>700.000000</td>\n",
       "      <td>91.295000</td>\n",
       "      <td>934.000000</td>\n",
       "      <td>9.100000</td>\n",
       "      <td>0.410000</td>\n",
       "      <td>821.000000</td>\n",
       "      <td>360.000000</td>\n",
       "      <td>37.874000</td>\n",
       "      <td>99.000000</td>\n",
       "      <td>3.440000</td>\n",
       "    </tr>\n",
       "  </tbody>\n",
       "</table>\n",
       "</div>"
      ],
      "text/plain": [
       "           Latitude     Longitude         Depth  Depth Error  \\\n",
       "count  23412.000000  23412.000000  23412.000000  4461.000000   \n",
       "mean       1.679033     39.639961     70.767911     4.993115   \n",
       "std       30.113183    125.511959    122.651898     4.875184   \n",
       "min      -77.080000   -179.997000     -1.100000     0.000000   \n",
       "25%      -18.653000    -76.349750     14.522500     1.800000   \n",
       "50%       -3.568500    103.982000     33.000000     3.500000   \n",
       "75%       26.190750    145.026250     54.000000     6.300000   \n",
       "max       86.005000    179.998000    700.000000    91.295000   \n",
       "\n",
       "       Depth Seismic Stations     Magnitude  Magnitude Error  \\\n",
       "count             7097.000000  23412.000000       327.000000   \n",
       "mean               275.364098      5.882531         0.071820   \n",
       "std                162.141631      0.423066         0.051466   \n",
       "min                  0.000000      5.500000         0.000000   \n",
       "25%                146.000000      5.600000         0.046000   \n",
       "50%                255.000000      5.700000         0.059000   \n",
       "75%                384.000000      6.000000         0.075500   \n",
       "max                934.000000      9.100000         0.410000   \n",
       "\n",
       "       Magnitude Seismic Stations  Azimuthal Gap  Horizontal Distance  \\\n",
       "count                 2564.000000    7299.000000          1604.000000   \n",
       "mean                    48.944618      44.163532             3.992660   \n",
       "std                     62.943106      32.141486             5.377262   \n",
       "min                      0.000000       0.000000             0.004505   \n",
       "25%                     10.000000      24.100000             0.968750   \n",
       "50%                     28.000000      36.000000             2.319500   \n",
       "75%                     66.000000      54.000000             4.724500   \n",
       "max                    821.000000     360.000000            37.874000   \n",
       "\n",
       "       Horizontal Error  Root Mean Square  \n",
       "count       1156.000000      17352.000000  \n",
       "mean           7.662759          1.022784  \n",
       "std           10.430396          0.188545  \n",
       "min            0.085000          0.000000  \n",
       "25%            5.300000          0.900000  \n",
       "50%            6.700000          1.000000  \n",
       "75%            8.100000          1.130000  \n",
       "max           99.000000          3.440000  "
      ]
     },
     "execution_count": 6,
     "metadata": {},
     "output_type": "execute_result"
    }
   ],
   "source": [
    "#describe the dataset\n",
    "data1.describe()"
   ]
  },
  {
   "cell_type": "markdown",
   "id": "6c1eda5c",
   "metadata": {
    "papermill": {
     "duration": 0.008606,
     "end_time": "2023-05-18T09:22:20.511241",
     "exception": false,
     "start_time": "2023-05-18T09:22:20.502635",
     "status": "completed"
    },
    "tags": []
   },
   "source": [
    "**Following are the findings we observe :-**\n",
    "\n",
    "1. we can find missing values in Root Mean Square \n",
    "\n",
    "2. normal distribution - latitude ,magnitude \n",
    "\n",
    "3. very low std deviation - magnitude \n",
    "\n",
    "4. we can drop columns Depth Error,Depth Seismic Stations,Magnitude Error,Magnitude Seismic Stations,Azimuthal Gap,Horizontal Distance and Horizontal Error\n",
    "\n",
    "5. since it consists of less than 40% of the data**"
   ]
  },
  {
   "cell_type": "code",
   "execution_count": 7,
   "id": "adffea4c",
   "metadata": {
    "execution": {
     "iopub.execute_input": "2023-05-18T09:22:20.530681Z",
     "iopub.status.busy": "2023-05-18T09:22:20.530277Z",
     "iopub.status.idle": "2023-05-18T09:22:20.543186Z",
     "shell.execute_reply": "2023-05-18T09:22:20.542133Z"
    },
    "papermill": {
     "duration": 0.025426,
     "end_time": "2023-05-18T09:22:20.545498",
     "exception": false,
     "start_time": "2023-05-18T09:22:20.520072",
     "status": "completed"
    },
    "tags": []
   },
   "outputs": [
    {
     "data": {
      "text/plain": [
       "5.50    4685\n",
       "5.60    3967\n",
       "5.70    3079\n",
       "5.80    2346\n",
       "5.90    1947\n",
       "        ... \n",
       "5.51       1\n",
       "5.55       1\n",
       "6.31       1\n",
       "6.47       1\n",
       "5.73       1\n",
       "Name: Magnitude, Length: 64, dtype: int64"
      ]
     },
     "execution_count": 7,
     "metadata": {},
     "output_type": "execute_result"
    }
   ],
   "source": [
    "data1.Magnitude.value_counts()   #NUMBER OF EARTHQUAKES WITH 5.5 MAGNITUDE IS THE HIGHEST"
   ]
  },
  {
   "cell_type": "code",
   "execution_count": 8,
   "id": "4c9f9e57",
   "metadata": {
    "execution": {
     "iopub.execute_input": "2023-05-18T09:22:20.565356Z",
     "iopub.status.busy": "2023-05-18T09:22:20.564952Z",
     "iopub.status.idle": "2023-05-18T09:22:20.592947Z",
     "shell.execute_reply": "2023-05-18T09:22:20.591858Z"
    },
    "papermill": {
     "duration": 0.040965,
     "end_time": "2023-05-18T09:22:20.595540",
     "exception": false,
     "start_time": "2023-05-18T09:22:20.554575",
     "status": "completed"
    },
    "tags": []
   },
   "outputs": [
    {
     "data": {
      "text/html": [
       "<div>\n",
       "<style scoped>\n",
       "    .dataframe tbody tr th:only-of-type {\n",
       "        vertical-align: middle;\n",
       "    }\n",
       "\n",
       "    .dataframe tbody tr th {\n",
       "        vertical-align: top;\n",
       "    }\n",
       "\n",
       "    .dataframe thead tr th {\n",
       "        text-align: left;\n",
       "    }\n",
       "\n",
       "    .dataframe thead tr:last-of-type th {\n",
       "        text-align: right;\n",
       "    }\n",
       "</style>\n",
       "<table border=\"1\" class=\"dataframe\">\n",
       "  <thead>\n",
       "    <tr>\n",
       "      <th></th>\n",
       "      <th colspan=\"2\" halign=\"left\">Depth</th>\n",
       "    </tr>\n",
       "    <tr>\n",
       "      <th></th>\n",
       "      <th>size</th>\n",
       "      <th>mean</th>\n",
       "    </tr>\n",
       "    <tr>\n",
       "      <th>Magnitude</th>\n",
       "      <th></th>\n",
       "      <th></th>\n",
       "    </tr>\n",
       "  </thead>\n",
       "  <tbody>\n",
       "    <tr>\n",
       "      <th>5.50</th>\n",
       "      <td>4685</td>\n",
       "      <td>70.856438</td>\n",
       "    </tr>\n",
       "    <tr>\n",
       "      <th>5.51</th>\n",
       "      <td>1</td>\n",
       "      <td>3.292000</td>\n",
       "    </tr>\n",
       "    <tr>\n",
       "      <th>5.52</th>\n",
       "      <td>4</td>\n",
       "      <td>3.575000</td>\n",
       "    </tr>\n",
       "    <tr>\n",
       "      <th>5.53</th>\n",
       "      <td>1</td>\n",
       "      <td>9.615000</td>\n",
       "    </tr>\n",
       "    <tr>\n",
       "      <th>5.54</th>\n",
       "      <td>1</td>\n",
       "      <td>1.200000</td>\n",
       "    </tr>\n",
       "    <tr>\n",
       "      <th>5.55</th>\n",
       "      <td>1</td>\n",
       "      <td>6.000000</td>\n",
       "    </tr>\n",
       "    <tr>\n",
       "      <th>5.58</th>\n",
       "      <td>1</td>\n",
       "      <td>9.083000</td>\n",
       "    </tr>\n",
       "    <tr>\n",
       "      <th>5.60</th>\n",
       "      <td>3967</td>\n",
       "      <td>70.157426</td>\n",
       "    </tr>\n",
       "    <tr>\n",
       "      <th>5.62</th>\n",
       "      <td>1</td>\n",
       "      <td>1.200000</td>\n",
       "    </tr>\n",
       "    <tr>\n",
       "      <th>5.63</th>\n",
       "      <td>1</td>\n",
       "      <td>1.200000</td>\n",
       "    </tr>\n",
       "  </tbody>\n",
       "</table>\n",
       "</div>"
      ],
      "text/plain": [
       "          Depth           \n",
       "           size       mean\n",
       "Magnitude                 \n",
       "5.50       4685  70.856438\n",
       "5.51          1   3.292000\n",
       "5.52          4   3.575000\n",
       "5.53          1   9.615000\n",
       "5.54          1   1.200000\n",
       "5.55          1   6.000000\n",
       "5.58          1   9.083000\n",
       "5.60       3967  70.157426\n",
       "5.62          1   1.200000\n",
       "5.63          1   1.200000"
      ]
     },
     "execution_count": 8,
     "metadata": {},
     "output_type": "execute_result"
    }
   ],
   "source": [
    "import numpy as np\n",
    "common_depth = data1.groupby('Magnitude').agg({'Depth':[np.size,np.mean]})\n",
    "common_depth.head(10)"
   ]
  },
  {
   "cell_type": "markdown",
   "id": "0d8d4f67",
   "metadata": {
    "papermill": {
     "duration": 0.009058,
     "end_time": "2023-05-18T09:22:20.614114",
     "exception": false,
     "start_time": "2023-05-18T09:22:20.605056",
     "status": "completed"
    },
    "tags": []
   },
   "source": [
    "**here we find that the Earthquake of 5.5 magnitude is having the highest depth**"
   ]
  },
  {
   "cell_type": "code",
   "execution_count": 9,
   "id": "196c2def",
   "metadata": {
    "execution": {
     "iopub.execute_input": "2023-05-18T09:22:20.634599Z",
     "iopub.status.busy": "2023-05-18T09:22:20.634197Z",
     "iopub.status.idle": "2023-05-18T09:22:20.639987Z",
     "shell.execute_reply": "2023-05-18T09:22:20.638920Z"
    },
    "papermill": {
     "duration": 0.018708,
     "end_time": "2023-05-18T09:22:20.642196",
     "exception": false,
     "start_time": "2023-05-18T09:22:20.623488",
     "status": "completed"
    },
    "tags": []
   },
   "outputs": [],
   "source": [
    "import matplotlib.pyplot as plt\n",
    "%matplotlib inline"
   ]
  },
  {
   "cell_type": "code",
   "execution_count": 10,
   "id": "9d132399",
   "metadata": {
    "execution": {
     "iopub.execute_input": "2023-05-18T09:22:20.663346Z",
     "iopub.status.busy": "2023-05-18T09:22:20.662520Z",
     "iopub.status.idle": "2023-05-18T09:22:21.003815Z",
     "shell.execute_reply": "2023-05-18T09:22:21.002739Z"
    },
    "papermill": {
     "duration": 0.3546,
     "end_time": "2023-05-18T09:22:21.006242",
     "exception": false,
     "start_time": "2023-05-18T09:22:20.651642",
     "status": "completed"
    },
    "tags": []
   },
   "outputs": [
    {
     "data": {
      "image/png": "[encoded data removed]",
      "text/plain": [
       "<Figure size 640x480 with 1 Axes>"
      ]
     },
     "metadata": {},
     "output_type": "display_data"
    }
   ],
   "source": [
    "plt.hist(data1.Depth,bins=10)\n",
    "plt.title(\"Distribution of Depth\")\n",
    "plt.ylabel('effected users')\n",
    "plt.xlabel('depth');"
   ]
  },
  {
   "cell_type": "markdown",
   "id": "894e513e",
   "metadata": {
    "papermill": {
     "duration": 0.009443,
     "end_time": "2023-05-18T09:22:21.025354",
     "exception": false,
     "start_time": "2023-05-18T09:22:21.015911",
     "status": "completed"
    },
    "tags": []
   },
   "source": [
    "**Here after looking at the plot we observe that :-**\n",
    "0-70 units is the most vulnerable depth for the earthquake effected users "
   ]
  },
  {
   "cell_type": "code",
   "execution_count": 11,
   "id": "40afe7bb",
   "metadata": {
    "execution": {
     "iopub.execute_input": "2023-05-18T09:22:21.046705Z",
     "iopub.status.busy": "2023-05-18T09:22:21.046296Z",
     "iopub.status.idle": "2023-05-18T09:22:21.365263Z",
     "shell.execute_reply": "2023-05-18T09:22:21.364160Z"
    },
    "papermill": {
     "duration": 0.332631,
     "end_time": "2023-05-18T09:22:21.367828",
     "exception": false,
     "start_time": "2023-05-18T09:22:21.035197",
     "status": "completed"
    },
    "tags": []
   },
   "outputs": [
    {
     "data": {
      "image/png": "[encoded data removed]",
      "text/plain": [
       "<Figure size 640x480 with 1 Axes>"
      ]
     },
     "metadata": {},
     "output_type": "display_data"
    }
   ],
   "source": [
    "plt.hist(data1.Magnitude,bins=10)\n",
    "plt.title(\"Distribution of Magnitude\")\n",
    "plt.ylabel('effected users')\n",
    "plt.xlabel('Magnitude');"
   ]
  },
  {
   "cell_type": "code",
   "execution_count": 12,
   "id": "29039b9b",
   "metadata": {
    "execution": {
     "iopub.execute_input": "2023-05-18T09:22:21.390147Z",
     "iopub.status.busy": "2023-05-18T09:22:21.389774Z",
     "iopub.status.idle": "2023-05-18T09:22:21.657468Z",
     "shell.execute_reply": "2023-05-18T09:22:21.656348Z"
    },
    "papermill": {
     "duration": 0.281868,
     "end_time": "2023-05-18T09:22:21.659967",
     "exception": false,
     "start_time": "2023-05-18T09:22:21.378099",
     "status": "completed"
    },
    "tags": []
   },
   "outputs": [
    {
     "data": {
      "image/png": "[encoded data removed]",
      "text/plain": [
       "<Figure size 640x480 with 1 Axes>"
      ]
     },
     "metadata": {},
     "output_type": "display_data"
    }
   ],
   "source": [
    "plt.hist(data1.Type,bins=10)\n",
    "plt.title(\"Distribution of Type\")\n",
    "plt.ylabel('effected users')\n",
    "plt.xlabel('Type');"
   ]
  },
  {
   "cell_type": "markdown",
   "id": "714071a6",
   "metadata": {
    "papermill": {
     "duration": 0.010107,
     "end_time": "2023-05-18T09:22:21.680767",
     "exception": false,
     "start_time": "2023-05-18T09:22:21.670660",
     "status": "completed"
    },
    "tags": []
   },
   "source": [
    "**here we find that earthquake is the most common type of disaster followed by nuclear explosion and rock burst effected by users** "
   ]
  },
  {
   "cell_type": "code",
   "execution_count": 13,
   "id": "4a4e3791",
   "metadata": {
    "execution": {
     "iopub.execute_input": "2023-05-18T09:22:21.703445Z",
     "iopub.status.busy": "2023-05-18T09:22:21.703033Z",
     "iopub.status.idle": "2023-05-18T09:22:22.006000Z",
     "shell.execute_reply": "2023-05-18T09:22:22.005167Z"
    },
    "papermill": {
     "duration": 0.317029,
     "end_time": "2023-05-18T09:22:22.008116",
     "exception": false,
     "start_time": "2023-05-18T09:22:21.691087",
     "status": "completed"
    },
    "tags": []
   },
   "outputs": [
    {
     "data": {
      "image/png": "[encoded data removed]",
      "text/plain": [
       "<Figure size 640x480 with 1 Axes>"
      ]
     },
     "metadata": {},
     "output_type": "display_data"
    }
   ],
   "source": [
    "plt.hist(data1.Longitude,bins=10)\n",
    "plt.title(\"Distribution of Longitude\")\n",
    "plt.ylabel('effected users')\n",
    "plt.xlabel('Longitude');"
   ]
  },
  {
   "cell_type": "markdown",
   "id": "c504fcb5",
   "metadata": {
    "papermill": {
     "duration": 0.010974,
     "end_time": "2023-05-18T09:22:22.030485",
     "exception": false,
     "start_time": "2023-05-18T09:22:22.019511",
     "status": "completed"
    },
    "tags": []
   },
   "source": [
    "**the longitude ranging from 100-160 experience the most disasters**"
   ]
  },
  {
   "cell_type": "code",
   "execution_count": 14,
   "id": "be1c296f",
   "metadata": {
    "execution": {
     "iopub.execute_input": "2023-05-18T09:22:22.056192Z",
     "iopub.status.busy": "2023-05-18T09:22:22.055245Z",
     "iopub.status.idle": "2023-05-18T09:22:22.492470Z",
     "shell.execute_reply": "2023-05-18T09:22:22.491280Z"
    },
    "papermill": {
     "duration": 0.453205,
     "end_time": "2023-05-18T09:22:22.495031",
     "exception": false,
     "start_time": "2023-05-18T09:22:22.041826",
     "status": "completed"
    },
    "tags": []
   },
   "outputs": [
    {
     "data": {
      "image/png": "[encoded data removed]",
      "text/plain": [
       "<Figure size 640x480 with 1 Axes>"
      ]
     },
     "metadata": {},
     "output_type": "display_data"
    }
   ],
   "source": [
    "plt.hist(data1.Latitude,bins=10)\n",
    "plt.title(\"Distribution of Latitude\")\n",
    "plt.ylabel('effected users')\n",
    "plt.xlabel('Latitude');"
   ]
  },
  {
   "cell_type": "markdown",
   "id": "71efc248",
   "metadata": {
    "papermill": {
     "duration": 0.011144,
     "end_time": "2023-05-18T09:22:22.518005",
     "exception": false,
     "start_time": "2023-05-18T09:22:22.506861",
     "status": "completed"
    },
    "tags": []
   },
   "source": [
    "**latitudes ranging from -20 - 20 is the most common latitude effected by the disasters**"
   ]
  },
  {
   "cell_type": "code",
   "execution_count": 15,
   "id": "1e89bcaa",
   "metadata": {
    "execution": {
     "iopub.execute_input": "2023-05-18T09:22:22.543500Z",
     "iopub.status.busy": "2023-05-18T09:22:22.542701Z",
     "iopub.status.idle": "2023-05-18T09:22:22.557984Z",
     "shell.execute_reply": "2023-05-18T09:22:22.556953Z"
    },
    "papermill": {
     "duration": 0.030793,
     "end_time": "2023-05-18T09:22:22.560348",
     "exception": false,
     "start_time": "2023-05-18T09:22:22.529555",
     "status": "completed"
    },
    "tags": []
   },
   "outputs": [
    {
     "data": {
      "text/plain": [
       "0       1-19\n",
       "1       1-19\n",
       "2    -40--19\n",
       "3    -60--39\n",
       "4       1-19\n",
       "5      -20-0\n",
       "6      20-39\n",
       "7      -20-0\n",
       "8    -60--39\n",
       "9    -40--19\n",
       "Name: latitude_group, dtype: category\n",
       "Categories (9, object): ['-80--59' < '-60--39' < '-40--19' < '-20-0' ... '20-39' < '40-59' < '60-79' < '80-99']"
      ]
     },
     "execution_count": 15,
     "metadata": {},
     "output_type": "execute_result"
    }
   ],
   "source": [
    "import pandas as pd\n",
    "labels = ['-80--59', '-60--39', '-40--19', '-20-0', '1-19', '20-39', '40-59', '60-79','80-99']\n",
    "data1['latitude_group'] = pd.cut(data1.Latitude, range(-80, 101, 20), right=False, labels=labels)\n",
    "data1['latitude_group'].head(10)"
   ]
  },
  {
   "cell_type": "code",
   "execution_count": 16,
   "id": "f2d64dbe",
   "metadata": {
    "execution": {
     "iopub.execute_input": "2023-05-18T09:22:22.586292Z",
     "iopub.status.busy": "2023-05-18T09:22:22.585554Z",
     "iopub.status.idle": "2023-05-18T09:22:22.602914Z",
     "shell.execute_reply": "2023-05-18T09:22:22.601836Z"
    },
    "papermill": {
     "duration": 0.032896,
     "end_time": "2023-05-18T09:22:22.605228",
     "exception": false,
     "start_time": "2023-05-18T09:22:22.572332",
     "status": "completed"
    },
    "tags": []
   },
   "outputs": [
    {
     "data": {
      "text/html": [
       "<div>\n",
       "<style scoped>\n",
       "    .dataframe tbody tr th:only-of-type {\n",
       "        vertical-align: middle;\n",
       "    }\n",
       "\n",
       "    .dataframe tbody tr th {\n",
       "        vertical-align: top;\n",
       "    }\n",
       "\n",
       "    .dataframe thead tr th {\n",
       "        text-align: left;\n",
       "    }\n",
       "\n",
       "    .dataframe thead tr:last-of-type th {\n",
       "        text-align: right;\n",
       "    }\n",
       "</style>\n",
       "<table border=\"1\" class=\"dataframe\">\n",
       "  <thead>\n",
       "    <tr>\n",
       "      <th></th>\n",
       "      <th colspan=\"2\" halign=\"left\">Magnitude</th>\n",
       "    </tr>\n",
       "    <tr>\n",
       "      <th></th>\n",
       "      <th>size</th>\n",
       "      <th>mean</th>\n",
       "    </tr>\n",
       "    <tr>\n",
       "      <th>latitude_group</th>\n",
       "      <th></th>\n",
       "      <th></th>\n",
       "    </tr>\n",
       "  </thead>\n",
       "  <tbody>\n",
       "    <tr>\n",
       "      <th>-80--59</th>\n",
       "      <td>281</td>\n",
       "      <td>5.886477</td>\n",
       "    </tr>\n",
       "    <tr>\n",
       "      <th>-60--39</th>\n",
       "      <td>1507</td>\n",
       "      <td>5.834572</td>\n",
       "    </tr>\n",
       "    <tr>\n",
       "      <th>-40--19</th>\n",
       "      <td>3688</td>\n",
       "      <td>5.857619</td>\n",
       "    </tr>\n",
       "    <tr>\n",
       "      <th>-20-0</th>\n",
       "      <td>7318</td>\n",
       "      <td>5.891036</td>\n",
       "    </tr>\n",
       "    <tr>\n",
       "      <th>1-19</th>\n",
       "      <td>4061</td>\n",
       "      <td>5.878946</td>\n",
       "    </tr>\n",
       "    <tr>\n",
       "      <th>20-39</th>\n",
       "      <td>3270</td>\n",
       "      <td>5.903052</td>\n",
       "    </tr>\n",
       "    <tr>\n",
       "      <th>40-59</th>\n",
       "      <td>3042</td>\n",
       "      <td>5.901292</td>\n",
       "    </tr>\n",
       "    <tr>\n",
       "      <th>60-79</th>\n",
       "      <td>213</td>\n",
       "      <td>5.871831</td>\n",
       "    </tr>\n",
       "    <tr>\n",
       "      <th>80-99</th>\n",
       "      <td>32</td>\n",
       "      <td>5.678125</td>\n",
       "    </tr>\n",
       "  </tbody>\n",
       "</table>\n",
       "</div>"
      ],
      "text/plain": [
       "               Magnitude          \n",
       "                    size      mean\n",
       "latitude_group                    \n",
       "-80--59              281  5.886477\n",
       "-60--39             1507  5.834572\n",
       "-40--19             3688  5.857619\n",
       "-20-0               7318  5.891036\n",
       "1-19                4061  5.878946\n",
       "20-39               3270  5.903052\n",
       "40-59               3042  5.901292\n",
       "60-79                213  5.871831\n",
       "80-99                 32  5.678125"
      ]
     },
     "execution_count": 16,
     "metadata": {},
     "output_type": "execute_result"
    }
   ],
   "source": [
    "import numpy as np\n",
    "data1.groupby('latitude_group').agg({'Magnitude': [np.size, np.mean]})"
   ]
  },
  {
   "cell_type": "code",
   "execution_count": 17,
   "id": "14c9b66e",
   "metadata": {
    "execution": {
     "iopub.execute_input": "2023-05-18T09:22:22.631397Z",
     "iopub.status.busy": "2023-05-18T09:22:22.630977Z",
     "iopub.status.idle": "2023-05-18T09:22:22.637051Z",
     "shell.execute_reply": "2023-05-18T09:22:22.636241Z"
    },
    "papermill": {
     "duration": 0.02207,
     "end_time": "2023-05-18T09:22:22.639320",
     "exception": false,
     "start_time": "2023-05-18T09:22:22.617250",
     "status": "completed"
    },
    "tags": []
   },
   "outputs": [],
   "source": [
    "data1['Root Mean Square'].fillna(data1['Root Mean Square'].mean(), inplace=True) \n",
    "#replace it with the mean since mean and the median is quite closed"
   ]
  },
  {
   "cell_type": "code",
   "execution_count": 18,
   "id": "c3392f46",
   "metadata": {
    "execution": {
     "iopub.execute_input": "2023-05-18T09:22:22.665565Z",
     "iopub.status.busy": "2023-05-18T09:22:22.664945Z",
     "iopub.status.idle": "2023-05-18T09:22:22.726919Z",
     "shell.execute_reply": "2023-05-18T09:22:22.726074Z"
    },
    "papermill": {
     "duration": 0.07806,
     "end_time": "2023-05-18T09:22:22.729434",
     "exception": false,
     "start_time": "2023-05-18T09:22:22.651374",
     "status": "completed"
    },
    "tags": []
   },
   "outputs": [
    {
     "data": {
      "text/html": [
       "<div>\n",
       "<style scoped>\n",
       "    .dataframe tbody tr th:only-of-type {\n",
       "        vertical-align: middle;\n",
       "    }\n",
       "\n",
       "    .dataframe tbody tr th {\n",
       "        vertical-align: top;\n",
       "    }\n",
       "\n",
       "    .dataframe thead th {\n",
       "        text-align: right;\n",
       "    }\n",
       "</style>\n",
       "<table border=\"1\" class=\"dataframe\">\n",
       "  <thead>\n",
       "    <tr style=\"text-align: right;\">\n",
       "      <th></th>\n",
       "      <th>Latitude</th>\n",
       "      <th>Longitude</th>\n",
       "      <th>Depth</th>\n",
       "      <th>Depth Error</th>\n",
       "      <th>Depth Seismic Stations</th>\n",
       "      <th>Magnitude</th>\n",
       "      <th>Magnitude Error</th>\n",
       "      <th>Magnitude Seismic Stations</th>\n",
       "      <th>Azimuthal Gap</th>\n",
       "      <th>Horizontal Distance</th>\n",
       "      <th>Horizontal Error</th>\n",
       "      <th>Root Mean Square</th>\n",
       "    </tr>\n",
       "  </thead>\n",
       "  <tbody>\n",
       "    <tr>\n",
       "      <th>count</th>\n",
       "      <td>23412.000000</td>\n",
       "      <td>23412.000000</td>\n",
       "      <td>23412.000000</td>\n",
       "      <td>4461.000000</td>\n",
       "      <td>7097.000000</td>\n",
       "      <td>23412.000000</td>\n",
       "      <td>327.000000</td>\n",
       "      <td>2564.000000</td>\n",
       "      <td>7299.000000</td>\n",
       "      <td>1604.000000</td>\n",
       "      <td>1156.000000</td>\n",
       "      <td>23412.000000</td>\n",
       "    </tr>\n",
       "    <tr>\n",
       "      <th>mean</th>\n",
       "      <td>1.679033</td>\n",
       "      <td>39.639961</td>\n",
       "      <td>70.767911</td>\n",
       "      <td>4.993115</td>\n",
       "      <td>275.364098</td>\n",
       "      <td>5.882531</td>\n",
       "      <td>0.071820</td>\n",
       "      <td>48.944618</td>\n",
       "      <td>44.163532</td>\n",
       "      <td>3.992660</td>\n",
       "      <td>7.662759</td>\n",
       "      <td>1.022784</td>\n",
       "    </tr>\n",
       "    <tr>\n",
       "      <th>std</th>\n",
       "      <td>30.113183</td>\n",
       "      <td>125.511959</td>\n",
       "      <td>122.651898</td>\n",
       "      <td>4.875184</td>\n",
       "      <td>162.141631</td>\n",
       "      <td>0.423066</td>\n",
       "      <td>0.051466</td>\n",
       "      <td>62.943106</td>\n",
       "      <td>32.141486</td>\n",
       "      <td>5.377262</td>\n",
       "      <td>10.430396</td>\n",
       "      <td>0.162319</td>\n",
       "    </tr>\n",
       "    <tr>\n",
       "      <th>min</th>\n",
       "      <td>-77.080000</td>\n",
       "      <td>-179.997000</td>\n",
       "      <td>-1.100000</td>\n",
       "      <td>0.000000</td>\n",
       "      <td>0.000000</td>\n",
       "      <td>5.500000</td>\n",
       "      <td>0.000000</td>\n",
       "      <td>0.000000</td>\n",
       "      <td>0.000000</td>\n",
       "      <td>0.004505</td>\n",
       "      <td>0.085000</td>\n",
       "      <td>0.000000</td>\n",
       "    </tr>\n",
       "    <tr>\n",
       "      <th>25%</th>\n",
       "      <td>-18.653000</td>\n",
       "      <td>-76.349750</td>\n",
       "      <td>14.522500</td>\n",
       "      <td>1.800000</td>\n",
       "      <td>146.000000</td>\n",
       "      <td>5.600000</td>\n",
       "      <td>0.046000</td>\n",
       "      <td>10.000000</td>\n",
       "      <td>24.100000</td>\n",
       "      <td>0.968750</td>\n",
       "      <td>5.300000</td>\n",
       "      <td>0.940000</td>\n",
       "    </tr>\n",
       "    <tr>\n",
       "      <th>50%</th>\n",
       "      <td>-3.568500</td>\n",
       "      <td>103.982000</td>\n",
       "      <td>33.000000</td>\n",
       "      <td>3.500000</td>\n",
       "      <td>255.000000</td>\n",
       "      <td>5.700000</td>\n",
       "      <td>0.059000</td>\n",
       "      <td>28.000000</td>\n",
       "      <td>36.000000</td>\n",
       "      <td>2.319500</td>\n",
       "      <td>6.700000</td>\n",
       "      <td>1.022784</td>\n",
       "    </tr>\n",
       "    <tr>\n",
       "      <th>75%</th>\n",
       "      <td>26.190750</td>\n",
       "      <td>145.026250</td>\n",
       "      <td>54.000000</td>\n",
       "      <td>6.300000</td>\n",
       "      <td>384.000000</td>\n",
       "      <td>6.000000</td>\n",
       "      <td>0.075500</td>\n",
       "      <td>66.000000</td>\n",
       "      <td>54.000000</td>\n",
       "      <td>4.724500</td>\n",
       "      <td>8.100000</td>\n",
       "      <td>1.100000</td>\n",
       "    </tr>\n",
       "    <tr>\n",
       "      <th>max</th>\n",
       "      <td>86.005000</td>\n",
       "      <td>179.998000</td>\n",
       "      <td>700.000000</td>\n",
       "      <td>91.295000</td>\n",
       "      <td>934.000000</td>\n",
       "      <td>9.100000</td>\n",
       "      <td>0.410000</td>\n",
       "      <td>821.000000</td>\n",
       "      <td>360.000000</td>\n",
       "      <td>37.874000</td>\n",
       "      <td>99.000000</td>\n",
       "      <td>3.440000</td>\n",
       "    </tr>\n",
       "  </tbody>\n",
       "</table>\n",
       "</div>"
      ],
      "text/plain": [
       "           Latitude     Longitude         Depth  Depth Error  \\\n",
       "count  23412.000000  23412.000000  23412.000000  4461.000000   \n",
       "mean       1.679033     39.639961     70.767911     4.993115   \n",
       "std       30.113183    125.511959    122.651898     4.875184   \n",
       "min      -77.080000   -179.997000     -1.100000     0.000000   \n",
       "25%      -18.653000    -76.349750     14.522500     1.800000   \n",
       "50%       -3.568500    103.982000     33.000000     3.500000   \n",
       "75%       26.190750    145.026250     54.000000     6.300000   \n",
       "max       86.005000    179.998000    700.000000    91.295000   \n",
       "\n",
       "       Depth Seismic Stations     Magnitude  Magnitude Error  \\\n",
       "count             7097.000000  23412.000000       327.000000   \n",
       "mean               275.364098      5.882531         0.071820   \n",
       "std                162.141631      0.423066         0.051466   \n",
       "min                  0.000000      5.500000         0.000000   \n",
       "25%                146.000000      5.600000         0.046000   \n",
       "50%                255.000000      5.700000         0.059000   \n",
       "75%                384.000000      6.000000         0.075500   \n",
       "max                934.000000      9.100000         0.410000   \n",
       "\n",
       "       Magnitude Seismic Stations  Azimuthal Gap  Horizontal Distance  \\\n",
       "count                 2564.000000    7299.000000          1604.000000   \n",
       "mean                    48.944618      44.163532             3.992660   \n",
       "std                     62.943106      32.141486             5.377262   \n",
       "min                      0.000000       0.000000             0.004505   \n",
       "25%                     10.000000      24.100000             0.968750   \n",
       "50%                     28.000000      36.000000             2.319500   \n",
       "75%                     66.000000      54.000000             4.724500   \n",
       "max                    821.000000     360.000000            37.874000   \n",
       "\n",
       "       Horizontal Error  Root Mean Square  \n",
       "count       1156.000000      23412.000000  \n",
       "mean           7.662759          1.022784  \n",
       "std           10.430396          0.162319  \n",
       "min            0.085000          0.000000  \n",
       "25%            5.300000          0.940000  \n",
       "50%            6.700000          1.022784  \n",
       "75%            8.100000          1.100000  \n",
       "max           99.000000          3.440000  "
      ]
     },
     "execution_count": 18,
     "metadata": {},
     "output_type": "execute_result"
    }
   ],
   "source": [
    "data1.describe()"
   ]
  }
 ],
 "metadata": {
  "kernelspec": {
   "display_name": "Python 3",
   "language": "python",
   "name": "python3"
  },
  "language_info": {
   "codemirror_mode": {
    "name": "ipython",
    "version": 3
   },
   "file_extension": ".py",
   "mimetype": "text/x-python",
   "name": "python",
   "nbconvert_exporter": "python",
   "pygments_lexer": "ipython3",
   "version": "3.10.10"
  },
  "papermill": {
   "default_parameters": {},
   "duration": 15.25206,
   "end_time": "2023-05-18T09:22:23.564509",
   "environment_variables": {},
   "exception": null,
   "input_path": "__notebook__.ipynb",
   "output_path": "__notebook__.ipynb",
   "parameters": {},
   "start_time": "2023-05-18T09:22:08.312449",
   "version": "2.4.0"
  }
 },
 "nbformat": 4,
 "nbformat_minor": 5
}
