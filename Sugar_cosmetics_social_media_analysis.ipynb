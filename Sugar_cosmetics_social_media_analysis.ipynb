{
  "nbformat": 4,
  "nbformat_minor": 0,
  "metadata": {
    "colab": {
      "provenance": [],
      "authorship_tag": "ABX9TyMnNdCEJ73+c+HsWM+yQXu4",
      "include_colab_link": true
    },
    "kernelspec": {
      "name": "python3",
      "display_name": "Python 3"
    },
    "language_info": {
      "name": "python"
    }
  },
  "cells": [
    {
      "cell_type": "markdown",
      "metadata": {
        "id": "view-in-github",
        "colab_type": "text"
      },
      "source": [
        "<a href=\"https://colab.research.google.com/github/Immortal-sage/hello-world/blob/master/Sugar_cosmetics_social_media_analysis.ipynb\" target=\"_parent\"><img src=\"https://colab.research.google.com/assets/colab-badge.svg\" alt=\"Open In Colab\"/></a>"
      ]
    },
    {
      "cell_type": "code",
      "source": [
        "import pandas as pd\n",
        "import nltk\n",
        "from sklearn.feature_extraction.text import TfidfVectorizer\n",
        "from sklearn.decomposition import LatentDirichletAllocation\n",
        "\n",
        "nltk.download('punkt')\n",
        "\n",
        "# Read the descriptions from the file\n",
        "file_path = '/content/Sugar_cosmetics_followers_Description.csv'  # path of the file\n",
        "description_column = 'Description'  # the name of the description column\n",
        "\n",
        "df = pd.read_csv(file_path)\n",
        "descriptions = df[description_column].tolist()\n",
        "\n",
        "# Clean and preprocess the descriptions\n",
        "preprocessed_docs = []\n",
        "for doc in descriptions:\n",
        "    tokens = nltk.word_tokenize(doc.lower())\n",
        "    preprocessed_docs.append(\" \".join(tokens))\n",
        "\n",
        "# Create the TF-IDF vectorizer\n",
        "tfidf_vectorizer = TfidfVectorizer(stop_words='english', max_features=5000)\n",
        "tfidf_matrix = tfidf_vectorizer.fit_transform(preprocessed_docs)\n",
        "\n",
        "# Perform topic modeling using Latent Dirichlet Allocation (LDA)\n",
        "num_topics = 5  # hyperparameter\n",
        "lda_model = LatentDirichletAllocation(n_components=num_topics, random_state=42)\n",
        "lda_model.fit(tfidf_matrix)\n",
        "\n",
        "# Get the top words for each topic\n",
        "feature_names = tfidf_vectorizer.get_feature_names_out()\n",
        "\n",
        "def get_top_words(topic_idx, n_top_words):\n",
        "    return [feature_names[i] for i in lda_model.components_[topic_idx].argsort()[:-n_top_words - 1:-1]]\n",
        "\n",
        "# Extract the dominant topic for each description\n",
        "df['dominant_topic'] = df[description_column].apply(lambda doc: lda_model.transform(tfidf_vectorizer.transform([doc])).argmax())\n",
        "\n",
        "# Print the dominant topics and their top words\n",
        "for topic_idx in range(num_topics):\n",
        "    top_words = get_top_words(topic_idx, n_top_words=5)\n",
        "    print(f\"Cluster {topic_idx}: {', '.join(top_words)}\")\n",
        "    print(f\"Number of descriptions: {len(df[df['dominant_topic'] == topic_idx])}\")\n",
        "    print(\"Sample Descriptions:\")\n",
        "    sample_descriptions = df[df['dominant_topic'] == topic_idx][description_column].head()\n",
        "    for description in sample_descriptions:\n",
        "        print(f\"- {description}\")\n",
        "    print()\n"
      ],
      "metadata": {
        "colab": {
          "base_uri": "https://localhost:8080/"
        },
        "id": "FL5FKn8MGi1Q",
        "outputId": "64a7454f-bf51-4a94-f6b4-70b5421c340c"
      },
      "execution_count": 48,
      "outputs": [
        {
          "output_type": "stream",
          "name": "stderr",
          "text": [
            "[nltk_data] Downloading package punkt to /root/nltk_data...\n",
            "[nltk_data]   Package punkt is already up-to-date!\n"
          ]
        },
        {
          "output_type": "stream",
          "name": "stdout",
          "text": [
            "Cluster 0: xf0, x9f, xd8, xe2, xd9\n",
            "Number of descriptions: 11376\n",
            "Sample Descriptions:\n",
            "- b''\n",
            "- b''\n",
            "- b''\n",
            "- b''\n",
            "- b\"\\xe2\\x84\\x93\\xce\\xb9\\xce\\xbd\\xce\\xb9\\xce\\xb7g \\xd0\\xbc\\xd1\\x83 \\xe2\\x88\\x82\\xd1\\x8f\\xd1\\x94\\xce\\xb1\\xd0\\xbc\\xe2\\x9d\\xa4\\xef\\xb8\\x8f SuperBoy\\xf0\\x9f\\x90\\xac\\xf0\\x9f\\x8c\\xb8\\xf0\\x9f\\x92\\x98\\xce\\xb9 \\xce\\xb1\\xd0\\xbc self-em \\xf0\\x9f\\x92\\x98\\xce\\xb9 \\xc6\\x92\\xd1\\x94\\xd1\\x94\\xe2\\x84\\x93 \\xe2\\x84\\x93\\xce\\xb9\\xd0\\xba\\xd1\\x94 \\xd0\\xbc\\xd1\\x83 \\xd1\\x8f\\xcf\\x83\\xe2\\x84\\x93\\xd1\\x94 \\xce\\xb9\\xce\\xb7 \\xd0\\xbc\\xd1\\x83 \\xc6\\x92\\xce\\xb1\\xd0\\xbc\\xce\\xb9\\xe2\\x84\\x93\\xd1\\x83 \\xce\\xb9\\xd1\\x95 \\xce\\xb9\\xd0\\xbc\\xcf\\x81\\xcf\\x83\\xd1\\x8f\\xd1\\x82\\xce\\xb1\\xce\\xb7\\xd1\\x82, \\xce\\xb9 \\xc6\\x92\\xd1\\x94\\xd1\\x94\\xe2\\x84\\x93 \\xe2\\x84\\x93\\xce\\xb9\\xd0\\xba\\xd1\\x94 \\xce\\xb9 \\xd0\\xba\\xce\\xb9\\xce\\xb7\\xe2\\x88\\x82 \\xcf\\x83\\xc6\\x92 \\xcf\\x81\\xcf\\x85\\xd1\\x82 \\xd1\\x82\\xd0\\xbd\\xd1\\x94 \\xc6\\x92\\xcf\\x85\\xce\\xb7 \\xce\\xb1\\xce\\xb7\\xe2\\x88\\x82 \\xd7\\xa0\\xcf\\x83\\xd1\\x83 \\xce\\xb9\\xce\\xb7 \\xce\\xb9'\\xd0\\xbc \\xce\\xb7\\xcf\\x83\\xd1\\x82 \\xe2\\x88\\x82\\xd1\\x8f\\xcf\\x85\\xce\\xb7\\xd0\\xba, \\xce\\xb9\\xe2\\x80\\x99\\xd0\\xbc \\xce\\xb9\\xce\\xb7\"\n",
            "\n",
            "Cluster 1: student, love, social, live, lover\n",
            "Number of descriptions: 2327\n",
            "Sample Descriptions:\n",
            "- b'General secretary PMLN PP 18 Women wing'\n",
            "- b'A Woman should be like a single flower....not  a whole bouquet......'\n",
            "- b'21 // cat mom // fitness // gardening'\n",
            "- b'She/her. Dog mom. I draw sometimes :)'\n",
            "- b'Student | Tech Lover\\nSoldier of #stufflistingsarmy ...\\xf0\\x9f\\x98\\x8a'\n",
            "\n",
            "Cluster 2: god, happy, xe3, designer, xec\n",
            "Number of descriptions: 983\n",
            "Sample Descriptions:\n",
            "- b\"UNL Alum '21 - Wildlife & Conservationist || Bartender || Crypto\"\n",
            "- b\"Regional Sales Manager @ QD & Son's Trading Company Kashmir.\"\n",
            "- b'he/him | biology | pre-pharmacy'\n",
            "- b'\\xca\\x99\\xca\\x9f\\xe1\\xb4\\x8f\\xc9\\xa2\\xc9\\xa2\\xc9\\xaa\\xc9\\xb4\\xc9\\xa2 \\xca\\x80\\xe1\\xb4\\x87\\xca\\x9f\\xe1\\xb4\\x80\\xe1\\xb4\\x9b\\xe1\\xb4\\x87\\xe1\\xb4\\x85 \\xe1\\xb4\\x9b\\xe1\\xb4\\x8f \\xe2\\x80\\xa2\\xca\\x99\\xe1\\xb4\\x87\\xe1\\xb4\\x80\\xe1\\xb4\\x9c\\xe1\\xb4\\x9b\\xca\\x8f \\xe2\\x80\\xa2\\xea\\x9c\\xb0\\xe1\\xb4\\x80\\xea\\x9c\\xb1\\xca\\x9c\\xc9\\xaa\\xe1\\xb4\\x8f\\xc9\\xb4 \\xe2\\x80\\xa2\\xca\\x9f\\xc9\\xaa\\xea\\x9c\\xb0\\xe1\\xb4\\x87\\xea\\x9c\\xb1\\xe1\\xb4\\x9b\\xca\\x8f\\xca\\x9f\\xe1\\xb4\\x87 \\xe2\\x80\\xa2\\xca\\x80\\xe1\\xb4\\x87\\xe1\\xb4\\xa0\\xc9\\xaa\\xe1\\xb4\\x87\\xe1\\xb4\\xa1\\xea\\x9c\\xb1 | \\xea\\x9c\\xb1\\xe1\\xb4\\x87\\xca\\x9f\\xea\\x9c\\xb0 \\xe1\\xb4\\x9b\\xe1\\xb4\\x80\\xe1\\xb4\\x9c\\xc9\\xa2\\xca\\x9c\\xe1\\xb4\\x9b \\xe1\\xb4\\x8d\\xe1\\xb4\\x9c\\xe1\\xb4\\x80 | \\xca\\x8f\\xe1\\xb4\\x8f\\xe1\\xb4\\x9c\\xe1\\xb4\\x9b\\xe1\\xb4\\x9c\\xca\\x99\\xe1\\xb4\\x87 \\xea\\x9c\\xb1\\xe1\\xb4\\x8f\\xe1\\xb4\\x8f\\xc9\\xb4 | \\xc9\\xaa\\xc9\\xb4\\xea\\x9c\\xb1\\xe1\\xb4\\x9b\\xe1\\xb4\\x80\\xc9\\xa2\\xca\\x80\\xe1\\xb4\\x80\\xe1\\xb4\\x8d \\xc9\\xaa\\xe1\\xb4\\x85-\\n https://t.co/3WuvdyWBud \\xf0\\x9f\\x92\\x9e\\xf0\\x9f\\xa6\\x8b'\n",
            "- b\"UCM '25. Cryptocurrency. Business/Marketing. Beer Connoisseur. Basketball. Outdoors.\"\n",
            "\n",
            "Cluster 3: xc3, la, en, xc4, hi\n",
            "Number of descriptions: 1710\n",
            "Sample Descriptions:\n",
            "- b'ELECTRICAL AND ELECTRONICS ENGINEER . .loves movies and web series . loves technology .'\n",
            "- b'#BLM\\n#GAYRIGHTS'\n",
            "- b\"23. I'm here for the memes :-) i make art sometimes when i'm happy\"\n",
            "- b'#bsc'\n",
            "- b'#BNB #BSC #ETH'\n",
            "\n",
            "Cluster 4: xe0, https, life, love, beauty\n",
            "Number of descriptions: 2508\n",
            "Sample Descriptions:\n",
            "- b'Northern Michigan University. Track and field. Travel enthusiast. Marathoner. Animal lover.'\n",
            "- b'22 | crypto & gamer | HODLing for the rest of my life | ethereum, doge, shiba, australian safe shepherd, & more'\n",
            "- b'27, she/her, crypto, valorant, city gal #blm #doge #australiansafeshepherd #ethereum #btc'\n",
            "- b'NYU // Theater Arts // Aspiring Actress // Ethereum, Cardano, NFTs'\n",
            "- b\"mechanical engineering at CMU '26 -- love yourself before you learn to love others -- all i tweet about is NFTs, travel, tennis, sewing, and my dogs :)\"\n",
            "\n"
          ]
        }
      ]
    }
  ]
}